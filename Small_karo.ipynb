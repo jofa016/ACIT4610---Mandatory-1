{
 "cells": [
  {
   "metadata": {},
   "cell_type": "markdown",
   "source": "# 1. Create population",
   "id": "1d14114b4074868f"
  },
  {
   "metadata": {},
   "cell_type": "markdown",
   "source": "#### 1.1 Import customer list from CSV",
   "id": "b085523c600b265"
  },
  {
   "cell_type": "code",
   "id": "initial_id",
   "metadata": {
    "collapsed": true,
    "ExecuteTime": {
     "end_time": "2025-08-28T07:59:18.291377Z",
     "start_time": "2025-08-28T07:59:18.273842Z"
    }
   },
   "source": [
    "import pandas as pd\n",
    "\n",
    "# path to customers list\n",
    "csv_file_path = 'customers.csv'\n",
    "\n",
    "# create pandas dataframe with all customers from CSV-file\n",
    "CUSTOMERS_DF = pd.read_csv(csv_file_path)\n",
    "print(\"CSV loaded successfully. Number of customers: \", CUSTOMERS_DF.shape[0])\n",
    "print(\"First 5 customers: \", CUSTOMERS_DF.head(5))"
   ],
   "outputs": [
    {
     "name": "stdout",
     "output_type": "stream",
     "text": [
      "CSV loaded successfully. Number of customers:  50\n",
      "First 5 customers:     id          x          y\n",
      "0   1  63.942680   2.501076\n",
      "1   2  27.502932  22.321074\n",
      "2   3  73.647121  67.669949\n",
      "3   4  89.217957   8.693883\n",
      "4   5  42.192182   2.979722\n"
     ]
    }
   ],
   "execution_count": 10
  },
  {
   "metadata": {},
   "cell_type": "markdown",
   "source": "#### 1.2 Select random population of 14 customers",
   "id": "40d94b8985ab4229"
  },
  {
   "metadata": {
    "ExecuteTime": {
     "end_time": "2025-08-28T10:02:08.870019Z",
     "start_time": "2025-08-28T10:02:08.862239Z"
    }
   },
   "cell_type": "code",
   "source": [
    "\"\"\"\n",
    "This section selects 14 random customers from the pandas dataframe.\n",
    "random_state is set to 42 to ensure reproducibility.\n",
    "\"\"\"\n",
    "POPULATION_SIZE = 14\n",
    "\n",
    "# select customers randomly from customers_list_df to match needed population size.\n",
    "customer_population = customers_list_df.sample(n=POPULATION_SIZE, random_state=42)\n",
    "print(\"First 5 customers:\")\n",
    "print(customer_population.head(5))\n",
    "\n",
    "# list of customer ids of selected customers\n",
    "customer_ids = customer_population['id'].tolist()\n",
    "print(\"----------------------------\")\n",
    "print(\"List of ids of selected customers:\", customer_ids)"
   ],
   "id": "c5b7aa14c1fd3bea",
   "outputs": [
    {
     "name": "stdout",
     "output_type": "stream",
     "text": [
      "First 5 customers:\n",
      "    id          x          y\n",
      "13  14   9.274584   9.671638\n",
      "39  40  26.488017  24.662751\n",
      "30  31  98.952335  63.999976\n",
      "45  46  10.964913  62.744604\n",
      "17  18  37.853438  55.204063\n",
      "----------------------------\n",
      "List of ids of selected customers: [14, 40, 31, 46, 18, 49, 27, 26, 33, 20, 13, 5, 38, 9]\n"
     ]
    }
   ],
   "execution_count": 38
  },
  {
   "metadata": {},
   "cell_type": "markdown",
   "source": "#### 1.3 Define generations, depot and vehicles.",
   "id": "7be18de5af09e77"
  },
  {
   "metadata": {
    "ExecuteTime": {
     "end_time": "2025-08-28T10:04:17.043207Z",
     "start_time": "2025-08-28T10:04:17.038494Z"
    }
   },
   "cell_type": "code",
   "source": [
    "# number of generations and vehicles\n",
    "GENERATIONS = 3\n",
    "VEHICLES = 3\n",
    "\n",
    "# coordinated for depot\n",
    "DEPOT = (0,0)\n",
    "\n",
    "# marker of depot it chromosome list\n",
    "DEPOT_MARKER = 0\n",
    "\n",
    "# list of internal depot markers, with the constraint that all vehicles start and finish at depot (0)\n",
    "num_internal_depot_markers = VEHICLES - 1"
   ],
   "id": "9f58e0fb3ed93eca",
   "outputs": [],
   "execution_count": 39
  },
  {
   "metadata": {},
   "cell_type": "markdown",
   "source": "#### 1.4 Create initial random chromosome.",
   "id": "210b7432206520a4"
  },
  {
   "metadata": {
    "ExecuteTime": {
     "end_time": "2025-08-28T10:13:07.228667Z",
     "start_time": "2025-08-28T10:13:07.223316Z"
    }
   },
   "cell_type": "code",
   "source": [
    "import random\n",
    "\n",
    "\"\"\"\n",
    "Constraints:\n",
    "1. start at depot (0,0)\n",
    "2. 3 vehicles. start and end at depot. e.g. (0,...,...,...,0,...,...,0,...,...,...,...,0)\n",
    "3. each customer visited only once\n",
    "\"\"\"\n",
    "\n",
    "# create random first chromosome\n",
    "def create_individual():\n",
    "    \"\"\"\n",
    "    Creates the first random individual chromosome based on the customers string and the number of vehicles.\n",
    "    \"\"\"\n",
    "\n",
    "    # create list of internal depot markers\n",
    "    internal_depot_markers_list = [depot_marker] * num_internal_depot_markers\n",
    "\n",
    "    # combine list of internal_depot_markers and customer_ids\n",
    "    elements_to_shuffle = internal_depot_markers_list + customer_ids\n",
    "\n",
    "    # shuffle all customers and internal_depot_markers randomly\n",
    "    random.shuffle(elements_to_shuffle)\n",
    "\n",
    "    # create chromosome which start at 0, and end at 0, with the customers and random point of depot-visits inbetween\n",
    "    chromosome = [depot_marker] + elements_to_shuffle + [depot_marker]\n",
    "\n",
    "    print(chromosome)\n",
    "\n",
    "create_individual()\n",
    "\n"
   ],
   "id": "8628ce2405dcf9df",
   "outputs": [
    {
     "name": "stdout",
     "output_type": "stream",
     "text": [
      "[0, 38, 26, 27, 14, 0, 13, 0, 31, 18, 9, 33, 20, 46, 40, 5, 49, 0]\n"
     ]
    }
   ],
   "execution_count": 49
  },
  {
   "metadata": {},
   "cell_type": "markdown",
   "source": "# 2. Fitness function",
   "id": "b97c40b03737c9ff"
  }
 ],
 "metadata": {
  "kernelspec": {
   "display_name": "Python 3",
   "language": "python",
   "name": "python3"
  },
  "language_info": {
   "codemirror_mode": {
    "name": "ipython",
    "version": 2
   },
   "file_extension": ".py",
   "mimetype": "text/x-python",
   "name": "python",
   "nbconvert_exporter": "python",
   "pygments_lexer": "ipython2",
   "version": "2.7.6"
  }
 },
 "nbformat": 4,
 "nbformat_minor": 5
}
