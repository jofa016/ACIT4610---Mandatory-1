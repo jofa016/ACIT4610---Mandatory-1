{
 "cells": [
  {
   "metadata": {},
   "cell_type": "markdown",
   "source": "# GA parameters",
   "id": "7f34134f3741f36"
  },
  {
   "metadata": {
    "ExecuteTime": {
     "end_time": "2025-08-31T09:50:41.722105Z",
     "start_time": "2025-08-31T09:50:41.715722Z"
    }
   },
   "cell_type": "code",
   "source": [
    "# GA parameter sets: baseline, exploration and exploitation.\n",
    "GA_PARAMETER_SETS = [\n",
    "    {\n",
    "        \"name\": \"Baseline set\",\n",
    "        \"generation_number\": 4,\n",
    "        \"crossover_probability\": 0.8,\n",
    "        \"mutation_probability\": 0.1\n",
    "    },\n",
    "    {\n",
    "        \"name\": \"Exploration scenario\",\n",
    "        \"generation_number\": 100,\n",
    "        \"crossover_probability\": 0.9,\n",
    "        \"mutation_probability\": 0.2\n",
    "    },\n",
    "    {\n",
    "        \"name\": \"Exploitation scenario\",\n",
    "        \"generation_number\": 30,\n",
    "        \"crossover_probability\": 0.7,\n",
    "        \"mutation_probability\": 0.001\n",
    "    }\n",
    "]\n",
    "\n",
    "\n",
    "# dictionary for each scenario with instance 1 and two for all scenarios (small, medium and large)\n",
    "PROBLEM_INSTANCES = [\n",
    "    {\n",
    "        \"name\": \"Small instance 1\",\n",
    "        \"population_size\": 14,\n",
    "        \"num_vehicles\": 3,\n",
    "    },\n",
    "    {\n",
    "        \"name\": \"Small instance 2\",\n",
    "        \"population_size\": 20,\n",
    "        \"num_vehicles\": 10,\n",
    "    },\n",
    "    {\n",
    "        \"name\": \"Medium instance 1\",\n",
    "        \"population_size\": 21,\n",
    "        \"num_vehicles\": 10,\n",
    "    },\n",
    "    {\n",
    "        \"name\": \"Medium instance 2\",\n",
    "        \"population_size\": 28,\n",
    "        \"num_vehicles\": 20,\n",
    "    },\n",
    "    {\n",
    "        \"name\": \"Large instance 1\",\n",
    "        \"population_size\": 32,\n",
    "        \"num_vehicles\": 20,\n",
    "    },\n",
    "    {\n",
    "        \"name\": \"Large instance 2\",\n",
    "        \"population_size\": 50,\n",
    "        \"num_vehicles\": 25,\n",
    "    }\n",
    "]"
   ],
   "id": "76e123da58fdf252",
   "outputs": [],
   "execution_count": 446
  },
  {
   "metadata": {},
   "cell_type": "markdown",
   "source": "# Functions for genetic algorithm",
   "id": "395ac5377396fd5a"
  },
  {
   "metadata": {},
   "cell_type": "code",
   "outputs": [],
   "execution_count": null,
   "source": "",
   "id": "53fe0e93f56acad6"
  },
  {
   "metadata": {},
   "cell_type": "markdown",
   "source": "# Genetic algorithm",
   "id": "881d19d3d7266513"
  },
  {
   "metadata": {},
   "cell_type": "markdown",
   "source": "##### Create locations data set:",
   "id": "80b12404caed8868"
  },
  {
   "metadata": {},
   "cell_type": "code",
   "outputs": [],
   "execution_count": null,
   "source": [
    "# 1: Import customers from example CSV.\n",
    "\n",
    "import pandas as pd\n",
    "\n",
    "# path to customers list\n",
    "csv_file_path = 'customers.csv'\n",
    "\n",
    "# create pandas dataframe with all customers from CSV-file\n",
    "CUSTOMERS_DF = pd.read_csv(csv_file_path)\n",
    "print(\"CSV loaded successfully. Number of customers: \", CUSTOMERS_DF.shape[0])\n",
    "print(\"First 5 customers: \", CUSTOMERS_DF.head(5))"
   ],
   "id": "a5f2f5f8e7c82aa7"
  },
  {
   "metadata": {},
   "cell_type": "markdown",
   "source": "",
   "id": "819b1e9c6d290b88"
  },
  {
   "metadata": {},
   "cell_type": "markdown",
   "source": "# Analysis and results",
   "id": "23af9fd7193fa2d0"
  },
  {
   "metadata": {},
   "cell_type": "markdown",
   "source": "# 1. Create population",
   "id": "1d14114b4074868f"
  },
  {
   "metadata": {},
   "cell_type": "markdown",
   "source": "#### 1.1 Import customer list from CSV",
   "id": "b085523c600b265"
  },
  {
   "cell_type": "code",
   "id": "initial_id",
   "metadata": {
    "collapsed": true,
    "ExecuteTime": {
     "end_time": "2025-08-31T09:50:41.740523Z",
     "start_time": "2025-08-31T09:50:41.732409Z"
    }
   },
   "source": [
    "import pandas as pd\n",
    "\n",
    "# path to customers list\n",
    "csv_file_path = 'customers.csv'\n",
    "\n",
    "# create pandas dataframe with all customers from CSV-file\n",
    "CUSTOMERS_DF = pd.read_csv(csv_file_path)\n",
    "print(\"CSV loaded successfully. Number of customers: \", CUSTOMERS_DF.shape[0])\n",
    "print(\"First 5 customers: \", CUSTOMERS_DF.head(5))"
   ],
   "outputs": [
    {
     "name": "stdout",
     "output_type": "stream",
     "text": [
      "CSV loaded successfully. Number of customers:  50\n",
      "First 5 customers:     id          x          y\n",
      "0   1  63.942680   2.501076\n",
      "1   2  27.502932  22.321074\n",
      "2   3  73.647121  67.669949\n",
      "3   4  89.217957   8.693883\n",
      "4   5  42.192182   2.979722\n"
     ]
    }
   ],
   "execution_count": 447
  },
  {
   "metadata": {},
   "cell_type": "markdown",
   "source": "#### 1.2 Select random population of 14 customers",
   "id": "40d94b8985ab4229"
  },
  {
   "metadata": {
    "ExecuteTime": {
     "end_time": "2025-08-31T09:50:41.758719Z",
     "start_time": "2025-08-31T09:50:41.753326Z"
    }
   },
   "cell_type": "code",
   "source": [
    "\"\"\"\n",
    "This section selects 14 random customers from the pandas dataframe.\n",
    "random_state is set to 42 to ensure reproducibility.\n",
    "\"\"\"\n",
    "\n",
    "# select customers randomly from customers_list_df to match needed population size.\n",
    "customer_population = customers_list_df.sample(n=POPULATION_SIZE, random_state=42)\n",
    "print(\"First 5 customers:\")\n",
    "print(customer_population.head(5))\n",
    "\n",
    "# list of customer ids of selected customers\n",
    "customer_ids = customer_population['id'].tolist()\n",
    "print(\"----------------------------\")\n",
    "print(\"List of ids of selected customers:\", customer_ids)"
   ],
   "id": "c5b7aa14c1fd3bea",
   "outputs": [
    {
     "name": "stdout",
     "output_type": "stream",
     "text": [
      "First 5 customers:\n",
      "    id          x          y\n",
      "13  14   9.274584   9.671638\n",
      "39  40  26.488017  24.662751\n",
      "30  31  98.952335  63.999976\n",
      "45  46  10.964913  62.744604\n",
      "17  18  37.853438  55.204063\n",
      "----------------------------\n",
      "List of ids of selected customers: [14, 40, 31, 46, 18, 49, 27, 26, 33, 20, 13, 5, 38, 9]\n"
     ]
    }
   ],
   "execution_count": 448
  },
  {
   "metadata": {},
   "cell_type": "markdown",
   "source": "#### 1.3 Define generations, depot and vehicles.",
   "id": "7be18de5af09e77"
  },
  {
   "metadata": {
    "ExecuteTime": {
     "end_time": "2025-08-31T09:50:41.771406Z",
     "start_time": "2025-08-31T09:50:41.768971Z"
    }
   },
   "cell_type": "code",
   "source": [
    "# number of generations and vehicles\n",
    "VEHICLES = 3\n",
    "\n",
    "# coordinated for depot\n",
    "DEPOT_LOC = [50,50]\n",
    "\n",
    "# marker of depot it chromosome list\n",
    "DEPOT_MARKER = 0\n",
    "\n",
    "MUTATION_RATE = 10\n",
    "\n",
    "# list of internal depot markers, with the constraint that all vehicles start and finish at depot (0)\n",
    "num_internal_depot_markers = VEHICLES - 1"
   ],
   "id": "9f58e0fb3ed93eca",
   "outputs": [],
   "execution_count": 449
  },
  {
   "metadata": {},
   "cell_type": "markdown",
   "source": "#### 1.4 Create initial random chromosome.",
   "id": "210b7432206520a4"
  },
  {
   "metadata": {
    "ExecuteTime": {
     "end_time": "2025-08-31T09:50:49.688576Z",
     "start_time": "2025-08-31T09:50:49.684312Z"
    }
   },
   "cell_type": "code",
   "source": [
    "import random\n",
    "\n",
    "# create random first chromosome\n",
    "def create_individual():\n",
    "    \"\"\"\n",
    "    Creates the first random individual chromosome by shuffling customer ids.\n",
    "    \"\"\"\n",
    "\n",
    "    random.shuffle(customer_ids)\n",
    "\n",
    "    chromosome = customer_ids\n",
    "\n",
    "    return chromosome\n",
    "\n",
    "print(\"Creating individual chromosome...\")\n",
    "chromosome = create_individual()\n",
    "print(chromosome)"
   ],
   "id": "8628ce2405dcf9df",
   "outputs": [
    {
     "name": "stdout",
     "output_type": "stream",
     "text": [
      "Creating individual chromosome...\n",
      "[27, 14, 18, 49, 26, 40, 33, 20, 38, 5, 31, 13, 46, 9]\n"
     ]
    }
   ],
   "execution_count": 461
  },
  {
   "metadata": {},
   "cell_type": "markdown",
   "source": "#### 1.5 Create dataframe with all location variables. Depot, and customers x and y.",
   "id": "99ed8629673b1811"
  },
  {
   "metadata": {
    "ExecuteTime": {
     "end_time": "2025-08-31T09:50:41.796614Z",
     "start_time": "2025-08-31T09:50:41.792179Z"
    }
   },
   "cell_type": "code",
   "source": [
    "coordinates_df = pd.concat(\n",
    "    [customer_population,\n",
    "     pd.DataFrame([[0] + DEPOT_LOC], columns=customer_population.columns)],\n",
    ")\n",
    "\n",
    "print(coordinates_df)"
   ],
   "id": "3a0a13a039426354",
   "outputs": [
    {
     "name": "stdout",
     "output_type": "stream",
     "text": [
      "    id          x          y\n",
      "13  14   9.274584   9.671638\n",
      "39  40  26.488017  24.662751\n",
      "30  31  98.952335  63.999976\n",
      "45  46  10.964913  62.744604\n",
      "17  18  37.853438  55.204063\n",
      "48  49  99.612138  52.911435\n",
      "26  27  26.697782  93.665459\n",
      "25  26  37.018097  20.950703\n",
      "32  33  84.285192  77.599991\n",
      "19  20  86.170690  57.735215\n",
      "12  13  95.721307  33.659455\n",
      "4    5  42.192182   2.979722\n",
      "37  38  65.543867  39.563190\n",
      "8    9  22.044062  58.926568\n",
      "0    0  50.000000  50.000000\n"
     ]
    }
   ],
   "execution_count": 451
  },
  {
   "metadata": {},
   "cell_type": "markdown",
   "source": "#### 1.6 Function to add depot locations",
   "id": "1ad0d8bd29d0c271"
  },
  {
   "metadata": {
    "ExecuteTime": {
     "end_time": "2025-08-31T09:50:41.814345Z",
     "start_time": "2025-08-31T09:50:41.808912Z"
    }
   },
   "cell_type": "code",
   "source": [
    "def add_vehicles(individual):\n",
    "    \"\"\"\n",
    "    Adds number of vehicles to individual chromosome by adding trips to depot.\n",
    "    \"\"\"\n",
    "\n",
    "    print(\"Number of depot markers: \", num_internal_depot_markers)\n",
    "    print(\"Individual chromosome:\")\n",
    "    print(individual)\n",
    "\n",
    "    print(\"Placing inner depot markers...\")\n",
    "\n",
    "    # place inner depot markers\n",
    "    positions = list(range(1, len(individual)))         # possible placements for inner depot markers (not start, end or adjacent)\n",
    "    individual_with_vehicles = individual.copy()        # new chromosome, ready to add depot markers into\n",
    "\n",
    "    # shuffle possible positions of inner depot markers\n",
    "    random.shuffle(positions)\n",
    "\n",
    "    zeros_indices = []\n",
    "    for pos in positions:\n",
    "        if all(abs(pos - z) > 1 for z in zeros_indices):\n",
    "            zeros_indices.append(pos)\n",
    "            if len(zeros_indices) == num_internal_depot_markers:\n",
    "                break\n",
    "\n",
    "    for idx in sorted(zeros_indices, reverse=True):\n",
    "        individual_with_vehicles.insert(idx, 0)\n",
    "\n",
    "\n",
    "    print(\"Adding depot markers at beginning and end...\")\n",
    "    # create chromosome which start at 0, and end at 0, with the customers and random point of depot-visits inbetween\n",
    "    individual_with_vehicles = [DEPOT_MARKER] + individual_with_vehicles + [DEPOT_MARKER]\n",
    "\n",
    "    print(\"Complete individual with vehicles: \", individual_with_vehicles)\n",
    "\n",
    "    return individual_with_vehicles\n",
    "\n",
    "add_vehicles(chromosome)"
   ],
   "id": "a4ecb744e534df76",
   "outputs": [
    {
     "name": "stdout",
     "output_type": "stream",
     "text": [
      "Number of depot markers:  2\n",
      "Individual chromosome:\n",
      "[46, 27, 14, 33, 38, 13, 40, 49, 9, 5, 26, 31, 20, 18]\n",
      "Placing inner depot markers...\n",
      "Adding depot markers at beginning and end...\n",
      "Complete individual with vehicles:  [0, 46, 27, 0, 14, 33, 38, 13, 40, 49, 9, 5, 26, 0, 31, 20, 18, 0]\n"
     ]
    },
    {
     "data": {
      "text/plain": [
       "[0, 46, 27, 0, 14, 33, 38, 13, 40, 49, 9, 5, 26, 0, 31, 20, 18, 0]"
      ]
     },
     "execution_count": 452,
     "metadata": {},
     "output_type": "execute_result"
    }
   ],
   "execution_count": 452
  },
  {
   "metadata": {},
   "cell_type": "markdown",
   "source": "# 2. Fitness function",
   "id": "b97c40b03737c9ff"
  },
  {
   "metadata": {},
   "cell_type": "markdown",
   "source": "#### 2.1 Function to calculate the Euclidean distances between two objects",
   "id": "a6a9c5fb9d7e467f"
  },
  {
   "metadata": {
    "ExecuteTime": {
     "end_time": "2025-08-31T09:50:41.822530Z",
     "start_time": "2025-08-31T09:50:41.819579Z"
    }
   },
   "cell_type": "code",
   "source": [
    "import numpy as np\n",
    "\n",
    "def calculate_euclidean_distance(id1, id2, loc_df):\n",
    "    \"\"\"\n",
    "    Calculates the Euclidean distance between two points.\n",
    "\n",
    "    Based on formula: sqrt((x1 - x2)^2 + (y1 - y2)^2)\n",
    "\n",
    "    :param id1: the id of first location\n",
    "    :param id2: the id of second location\n",
    "    :param loc_df: the dataframe containing the coordinates to all locations\n",
    "    \"\"\"\n",
    "\n",
    "    # find x and y coordinated for id1\n",
    "    x1 = loc_df.loc[loc_df['id'] == id1]['x'].iloc[0]\n",
    "    y1 = loc_df.loc[loc_df['id'] == id1]['y'].iloc[0]\n",
    "\n",
    "    # find x and y coordinates for id2\n",
    "    x2 = loc_df.loc[loc_df['id'] == id2]['x'].iloc[0]\n",
    "    y2 = loc_df.loc[loc_df['id'] == id2]['y'].iloc[0]\n",
    "\n",
    "    # Euclidean calculation on objects id1 and id2\n",
    "    return np.sqrt((x1 - x2) ** 2 + (y1 - y2) ** 2)"
   ],
   "id": "fd32a7178d8fccc0",
   "outputs": [],
   "execution_count": 453
  },
  {
   "metadata": {},
   "cell_type": "markdown",
   "source": "#### 2.2 Fitness function - evaluates fitness of a single chromosome",
   "id": "1b073439172e3cd8"
  },
  {
   "metadata": {
    "ExecuteTime": {
     "end_time": "2025-08-31T09:50:41.832638Z",
     "start_time": "2025-08-31T09:50:41.828845Z"
    }
   },
   "cell_type": "code",
   "source": [
    "def calculate_fitness(individual):\n",
    "    \"\"\"\n",
    "    Calculate the fitness of the individual chromosome.\n",
    "\n",
    "    :param individual:\n",
    "\n",
    "    :return: the fitness of the individual chromosome (value between 0 and 1)\n",
    "    \"\"\"\n",
    "    routes_segmented = []\n",
    "    routes_distances = []\n",
    "    start_index_of_route = 0\n",
    "\n",
    "    try:\n",
    "        # separate all vehicle trips into individual routes (list)\n",
    "        # iterate through chromosome to find depot-markers and segment into individual vehicle routes.\n",
    "        for i in range(len(individual)):\n",
    "\n",
    "            if individual[i] == depot_marker and i != 0:                    # avoid counting starting depot point\n",
    "                route_segment = individual[start_index_of_route: i + 1]     # create a temporary route segment for current vehicle trip\n",
    "                routes_segmented.append(route_segment)                            # append list of all routes with new route segment\n",
    "\n",
    "                # start to look for new route from where the last ended at the depot\n",
    "                start_index_of_route = i\n",
    "                print(\"The route segmented is: \", route_segment)\n",
    "\n",
    "        # calculate distances for each trip\n",
    "        for route in routes_segmented:\n",
    "\n",
    "            # temporary list of individual Euclidean distances in one route segment\n",
    "            single_route_distance = []\n",
    "\n",
    "            print(\"processing new route...\")\n",
    "            for loc1,loc2 in zip(route, route[1:]):\n",
    "                euclidean_distance = calculate_euclidean_distance(loc1, loc2, coordinates_df)\n",
    "                single_route_distance.append(euclidean_distance)\n",
    "\n",
    "            total_route_distance = sum(single_route_distance)\n",
    "            print(\"calculated distance: \", total_route_distance)\n",
    "            routes_distances.append(total_route_distance)\n",
    "\n",
    "\n",
    "        # sum distance of all trips\n",
    "        total_accumulated_distance = sum(routes_distances)\n",
    "\n",
    "        # calculate fitness based on total_trip_distance and return value\n",
    "        return 1 / total_accumulated_distance\n",
    "\n",
    "    except ZeroDivisionError:\n",
    "        print(\"There are no routes to segment. Check if depot markers are present.\")\n",
    "        print(\"The route segmented is: \", individual)\n",
    "        print(\"Number of depot markers present: \", individual.count(0))\n",
    "\n",
    "calculate_fitness(chromosome)"
   ],
   "id": "639905fdeba2e6e3",
   "outputs": [
    {
     "name": "stdout",
     "output_type": "stream",
     "text": [
      "There are no routes to segment. Check if depot markers are present.\n",
      "The route segmented is:  [46, 27, 14, 33, 38, 13, 40, 49, 9, 5, 26, 31, 20, 18]\n",
      "Number of depot markers present:  0\n"
     ]
    }
   ],
   "execution_count": 454
  },
  {
   "metadata": {},
   "cell_type": "markdown",
   "source": "## 3. Crossover and mutation",
   "id": "75028ebf3b1cdf"
  },
  {
   "metadata": {},
   "cell_type": "markdown",
   "source": "#### 3.1 Crossover function",
   "id": "ba358d67b0cc9385"
  },
  {
   "metadata": {
    "ExecuteTime": {
     "end_time": "2025-08-31T09:50:41.851167Z",
     "start_time": "2025-08-31T09:50:41.844807Z"
    }
   },
   "cell_type": "code",
   "source": [
    "def crossover_pmx(parent1, parent2):\n",
    "    \"\"\"\n",
    "\n",
    "    :param parent1:\n",
    "    :param parent2:\n",
    "    \"\"\"\n",
    "    length = len(parent1)\n",
    "    child1 = [-1] * length\n",
    "    child2 = [-1] * length\n",
    "\n",
    "    print(\"step 1:\")\n",
    "    print(\"parent1: \", parent1)\n",
    "    print(\"parent2: \", parent2)\n",
    "\n",
    "    if random.random() < CROSSOVER_RATE:           # runs crossover if the randomly selected float is lower than the crossover rate\n",
    "\n",
    "        # define crossover start and end\n",
    "        start, end = sorted(random.sample(range(length), 2))\n",
    "\n",
    "        print(\"--------------------------------------\")\n",
    "        print(\"the crossover start and end: \", start, \", \", end)\n",
    "\n",
    "        #\n",
    "        child1[start:end] = parent1[start:end]\n",
    "        child2[start:end] = parent2[start:end]\n",
    "\n",
    "        print(\"--------------------------------------\")\n",
    "        print(\"step 2:\")\n",
    "        print(\"child1: \", child1)\n",
    "        print(\"child2: \", child2)\n",
    "\n",
    "        # mapping between the parents and children. Maps duplicates\n",
    "        mapping1_to_2 = {} # maps elements from segments of parent1 to parent2\n",
    "        mapping2_to_1 = {} # Maps elements from segments of parent2 to parent1\n",
    "        for i in range(start, end):\n",
    "            gene1 = parent1[i]\n",
    "            gene2 = parent2[i]\n",
    "            mapping1_to_2[gene1] = gene2\n",
    "            mapping2_to_1[gene2] = gene1\n",
    "\n",
    "        print(\"--------------------------------------\")\n",
    "        print(\"step 3:\")\n",
    "        print(\"mapping 1 elements from segment of parent 1 to parent 2: \", mapping1_to_2)\n",
    "        print(\"mapping 2 elements from segment of parent 2 to parent 1: \", mapping2_to_1)\n",
    "\n",
    "        # 4. Fill the remaining positions in offspring1\n",
    "        # Iterate through parent1. For each gene, if it's not already in offspring1,\n",
    "        # place it. If it causes a duplicate, use the mapping to find a non-duplicate.\n",
    "        for i in range(length):\n",
    "            if start <= i < end:\n",
    "                continue # Segment already copied\n",
    "\n",
    "            gene_to_place = parent2[i]\n",
    "            # Check if the gene is already in offspring1 (i.e., it's part of the copied segment from parent2)\n",
    "            while gene_to_place in child1[start:end]:\n",
    "                gene_to_place = mapping1_to_2[gene_to_place] # Follow the mapping\n",
    "\n",
    "            # Place the non-duplicate gene\n",
    "            child1[i] = gene_to_place\n",
    "\n",
    "        for i in range(length):\n",
    "            if start <= i < end:\n",
    "                continue # Segment already copied\n",
    "\n",
    "            gene_to_place = parent1[i]\n",
    "            # Check if the gene is already in offspring1 (i.e., it's part of the copied segment from parent2)\n",
    "            while gene_to_place in child2[start:end]:\n",
    "                gene_to_place = mapping2_to_1[gene_to_place] # Follow the mapping\n",
    "\n",
    "            # Place the non-duplicate gene\n",
    "            child2[i] = gene_to_place\n",
    "\n",
    "    return child1, child2\n",
    "\n",
    "new_child1, new_child2 = crossover_pmx(chromosome, [33, 46, 27, 13, 9, 26, 5, 31, 38, 14, 18, 40, 20, 49])\n",
    "\n",
    "print(\"\")\n",
    "print(\"----------- Newborn children: -----------\")\n",
    "print(\"Crossed child1: \", new_child1)\n",
    "print(\"Crossed child2: \", new_child2)\n"
   ],
   "id": "7db73494498ae2fe",
   "outputs": [
    {
     "name": "stdout",
     "output_type": "stream",
     "text": [
      "step 1:\n",
      "parent1:  [46, 27, 14, 33, 38, 13, 40, 49, 9, 5, 26, 31, 20, 18]\n",
      "parent2:  [33, 46, 27, 13, 9, 26, 5, 31, 38, 14, 18, 40, 20, 49]\n",
      "\n",
      "----------- Newborn children: -----------\n",
      "Crossed child1:  [-1, -1, -1, -1, -1, -1, -1, -1, -1, -1, -1, -1, -1, -1]\n",
      "Crossed child2:  [-1, -1, -1, -1, -1, -1, -1, -1, -1, -1, -1, -1, -1, -1]\n"
     ]
    }
   ],
   "execution_count": 455
  },
  {
   "metadata": {},
   "cell_type": "markdown",
   "source": "#### 3.2 Mutation function",
   "id": "bae0be0055368e9a"
  },
  {
   "metadata": {
    "ExecuteTime": {
     "end_time": "2025-08-31T09:50:41.859664Z",
     "start_time": "2025-08-31T09:50:41.857176Z"
    }
   },
   "cell_type": "code",
   "source": [
    "def mutate(individual):\n",
    "    \"\"\"\n",
    "    Mutates an individual chromosome.\n",
    "\n",
    "    :param individual: individual chromosome (list of customers)\n",
    "    :return: the mutated chromosome (list of customers with slight mutations)\n",
    "    \"\"\"\n",
    "\n",
    "    if random.random() < MUTATION_RATE:           # randomly select a number and runs code if it is less than mutation rate\n",
    "\n",
    "        # mutation procedure\n",
    "        pos1, pos2 = random.sample(range(len(individual)), 2)                       # selects two distinct random positions in list\n",
    "        individual[pos1], individual[pos2] = individual[pos2], individual[pos1]     # swap elements in positions\n",
    "\n",
    "    return individual\n",
    "\n",
    "print(mutate(new_child1))\n"
   ],
   "id": "ca3c20af024aa4dd",
   "outputs": [
    {
     "name": "stdout",
     "output_type": "stream",
     "text": [
      "[-1, -1, -1, -1, -1, -1, -1, -1, -1, -1, -1, -1, -1, -1]\n"
     ]
    }
   ],
   "execution_count": 456
  },
  {
   "metadata": {},
   "cell_type": "markdown",
   "source": "## 4. Genetic algorithm",
   "id": "4193608ee48b1de4"
  },
  {
   "metadata": {
    "ExecuteTime": {
     "end_time": "2025-08-31T09:50:41.869058Z",
     "start_time": "2025-08-31T09:50:41.866944Z"
    }
   },
   "cell_type": "code",
   "source": [
    "def visualize_individual(individual, fitness_value):\n",
    "    \"\"\"\n",
    "    Creates a string representation of an individual.\n",
    "\n",
    "    Args:\n",
    "    individual (list): A tour represented as a list of city indices.\n",
    "    fitness_value (float): The fitness value of the individual.\n",
    "\n",
    "    Returns:\n",
    "    str: A string representation of the tour and its fitness.\n",
    "    \"\"\"\n",
    "    route = \" -> \".join(map(str, individual))\n",
    "    return f\"{route} Fitness: {fitness_value:.6f}\""
   ],
   "id": "3ba490d26000a3f8",
   "outputs": [],
   "execution_count": 457
  },
  {
   "metadata": {
    "ExecuteTime": {
     "end_time": "2025-08-31T09:50:41.896666Z",
     "start_time": "2025-08-31T09:50:41.875122Z"
    }
   },
   "cell_type": "code",
   "source": [
    "def genetic_algorithm():\n",
    "    \"\"\"\n",
    "    Runs the genetic algorithm for the Traveling Salesman Problem.\n",
    "\n",
    "    This function initializes a population, evolves it over several generations,\n",
    "    and prints the state of the population at each step.\n",
    "    \"\"\"\n",
    "    population = [create_individual() for _ in range(POPULATION_SIZE)]\n",
    "\n",
    "    for generation in range(GENERATIONS):\n",
    "        print(f\"\\nGeneration {generation}:\")\n",
    "        for i, ind in enumerate(population):\n",
    "            print(f\"Individual {i}: {visualize_individual(ind, calculate_fitness(ind))}\")\n",
    "\n",
    "        new_population = []\n",
    "\n",
    "        print(\"\\nCrossover and Mutation:\")\n",
    "        for i in range(0, POPULATION_SIZE, 2):\n",
    "            parent1, parent2 = random.sample(population, 2)\n",
    "            child1, (start, end) = crossover_pmx(parent1, parent2)\n",
    "            child2, _ = crossover_pmx(parent2, parent1)\n",
    "\n",
    "            print(f\"\\nParent 1: {visualize_individual(parent1, calculate_fitness(parent1))}\")\n",
    "            print(f\"Parent 2: {visualize_individual(parent2, calculate_fitness(parent2))}\")\n",
    "            print(f\"Crossover range: {start} to {end}\")\n",
    "            print(f\"Child 1:  {visualize_individual(child1, calculate_fitness(child1))}\")\n",
    "\n",
    "            mutated_child1 = mutate(child1)\n",
    "            print(f\"Mutated: {visualize_individual(mutated_child1, calculate_fitness(mutated_child1))}\")\n",
    "\n",
    "            new_population.extend([mutated_child1, mutate(child2)])\n",
    "\n",
    "        population = new_population\n",
    "\n",
    "    print(\"\\nFinal Population:\")\n",
    "    for i, ind in enumerate(population):\n",
    "        print(f\"Individual {i}: {visualize_individual(ind, calculate_fitness(ind))}\")\n",
    "\n",
    "if __name__ == \"__main__\":\n",
    "    genetic_algorithm()"
   ],
   "id": "391a6ed17420a074",
   "outputs": [
    {
     "name": "stdout",
     "output_type": "stream",
     "text": [
      "\n",
      "Generation 0:\n",
      "There are no routes to segment. Check if depot markers are present.\n",
      "The route segmented is:  [33, 5, 31, 18, 13, 49, 46, 9, 38, 26, 40, 14, 27, 20]\n",
      "Number of depot markers present:  0\n"
     ]
    },
    {
     "ename": "TypeError",
     "evalue": "unsupported format string passed to NoneType.__format__",
     "output_type": "error",
     "traceback": [
      "\u001B[0;31m---------------------------------------------------------------------------\u001B[0m",
      "\u001B[0;31mTypeError\u001B[0m                                 Traceback (most recent call last)",
      "Cell \u001B[0;32mIn [458], line 40\u001B[0m\n\u001B[1;32m     37\u001B[0m         \u001B[38;5;28mprint\u001B[39m(\u001B[38;5;124mf\u001B[39m\u001B[38;5;124m\"\u001B[39m\u001B[38;5;124mIndividual \u001B[39m\u001B[38;5;132;01m{\u001B[39;00mi\u001B[38;5;132;01m}\u001B[39;00m\u001B[38;5;124m: \u001B[39m\u001B[38;5;132;01m{\u001B[39;00mvisualize_individual(ind, calculate_fitness(ind))\u001B[38;5;132;01m}\u001B[39;00m\u001B[38;5;124m\"\u001B[39m)\n\u001B[1;32m     39\u001B[0m \u001B[38;5;28;01mif\u001B[39;00m \u001B[38;5;18m__name__\u001B[39m \u001B[38;5;241m==\u001B[39m \u001B[38;5;124m\"\u001B[39m\u001B[38;5;124m__main__\u001B[39m\u001B[38;5;124m\"\u001B[39m:\n\u001B[0;32m---> 40\u001B[0m     \u001B[43mgenetic_algorithm\u001B[49m\u001B[43m(\u001B[49m\u001B[43m)\u001B[49m\n",
      "Cell \u001B[0;32mIn [458], line 13\u001B[0m, in \u001B[0;36mgenetic_algorithm\u001B[0;34m()\u001B[0m\n\u001B[1;32m     11\u001B[0m \u001B[38;5;28mprint\u001B[39m(\u001B[38;5;124mf\u001B[39m\u001B[38;5;124m\"\u001B[39m\u001B[38;5;130;01m\\n\u001B[39;00m\u001B[38;5;124mGeneration \u001B[39m\u001B[38;5;132;01m{\u001B[39;00mgeneration\u001B[38;5;132;01m}\u001B[39;00m\u001B[38;5;124m:\u001B[39m\u001B[38;5;124m\"\u001B[39m)\n\u001B[1;32m     12\u001B[0m \u001B[38;5;28;01mfor\u001B[39;00m i, ind \u001B[38;5;129;01min\u001B[39;00m \u001B[38;5;28menumerate\u001B[39m(population):\n\u001B[0;32m---> 13\u001B[0m     \u001B[38;5;28mprint\u001B[39m(\u001B[38;5;124mf\u001B[39m\u001B[38;5;124m\"\u001B[39m\u001B[38;5;124mIndividual \u001B[39m\u001B[38;5;132;01m{\u001B[39;00mi\u001B[38;5;132;01m}\u001B[39;00m\u001B[38;5;124m: \u001B[39m\u001B[38;5;132;01m{\u001B[39;00mvisualize_individual(ind, calculate_fitness(ind))\u001B[38;5;132;01m}\u001B[39;00m\u001B[38;5;124m\"\u001B[39m)\n\u001B[1;32m     15\u001B[0m new_population \u001B[38;5;241m=\u001B[39m []\n\u001B[1;32m     17\u001B[0m \u001B[38;5;28mprint\u001B[39m(\u001B[38;5;124m\"\u001B[39m\u001B[38;5;130;01m\\n\u001B[39;00m\u001B[38;5;124mCrossover and Mutation:\u001B[39m\u001B[38;5;124m\"\u001B[39m)\n",
      "Cell \u001B[0;32mIn [457], line 13\u001B[0m, in \u001B[0;36mvisualize_individual\u001B[0;34m(individual, fitness_value)\u001B[0m\n\u001B[1;32m      2\u001B[0m \u001B[38;5;124;03m\"\"\"\u001B[39;00m\n\u001B[1;32m      3\u001B[0m \u001B[38;5;124;03mCreates a string representation of an individual.\u001B[39;00m\n\u001B[1;32m      4\u001B[0m \n\u001B[0;32m   (...)\u001B[0m\n\u001B[1;32m     10\u001B[0m \u001B[38;5;124;03mstr: A string representation of the tour and its fitness.\u001B[39;00m\n\u001B[1;32m     11\u001B[0m \u001B[38;5;124;03m\"\"\"\u001B[39;00m\n\u001B[1;32m     12\u001B[0m route \u001B[38;5;241m=\u001B[39m \u001B[38;5;124m\"\u001B[39m\u001B[38;5;124m -> \u001B[39m\u001B[38;5;124m\"\u001B[39m\u001B[38;5;241m.\u001B[39mjoin(\u001B[38;5;28mmap\u001B[39m(\u001B[38;5;28mstr\u001B[39m, individual))\n\u001B[0;32m---> 13\u001B[0m \u001B[38;5;28;01mreturn\u001B[39;00m \u001B[38;5;124mf\u001B[39m\u001B[38;5;124m\"\u001B[39m\u001B[38;5;132;01m{\u001B[39;00mroute\u001B[38;5;132;01m}\u001B[39;00m\u001B[38;5;124m Fitness: \u001B[39m\u001B[38;5;132;01m{\u001B[39;00mfitness_value\u001B[38;5;132;01m:\u001B[39;00m\u001B[38;5;124m.6f\u001B[39m\u001B[38;5;132;01m}\u001B[39;00m\u001B[38;5;124m\"\u001B[39m\n",
      "\u001B[0;31mTypeError\u001B[0m: unsupported format string passed to NoneType.__format__"
     ]
    }
   ],
   "execution_count": 458
  }
 ],
 "metadata": {
  "kernelspec": {
   "display_name": "Python 3",
   "language": "python",
   "name": "python3"
  },
  "language_info": {
   "codemirror_mode": {
    "name": "ipython",
    "version": 2
   },
   "file_extension": ".py",
   "mimetype": "text/x-python",
   "name": "python",
   "nbconvert_exporter": "python",
   "pygments_lexer": "ipython2",
   "version": "2.7.6"
  }
 },
 "nbformat": 4,
 "nbformat_minor": 5
}
