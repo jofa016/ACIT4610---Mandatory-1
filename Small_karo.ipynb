{
 "cells": [
  {
   "metadata": {},
   "cell_type": "markdown",
   "source": "# 1. Create population",
   "id": "1d14114b4074868f"
  },
  {
   "metadata": {},
   "cell_type": "markdown",
   "source": "#### 1.1 Import customer list from CSV",
   "id": "b085523c600b265"
  },
  {
   "cell_type": "code",
   "id": "initial_id",
   "metadata": {
    "collapsed": true,
    "ExecuteTime": {
     "end_time": "2025-08-28T11:46:15.959455Z",
     "start_time": "2025-08-28T11:46:15.950854Z"
    }
   },
   "source": [
    "import pandas as pd\n",
    "\n",
    "# path to customers list\n",
    "csv_file_path = 'customers.csv'\n",
    "\n",
    "# create pandas dataframe with all customers from CSV-file\n",
    "CUSTOMERS_DF = pd.read_csv(csv_file_path)\n",
    "print(\"CSV loaded successfully. Number of customers: \", CUSTOMERS_DF.shape[0])\n",
    "print(\"First 5 customers: \", CUSTOMERS_DF.head(5))"
   ],
   "outputs": [
    {
     "name": "stdout",
     "output_type": "stream",
     "text": [
      "CSV loaded successfully. Number of customers:  50\n",
      "First 5 customers:     id          x          y\n",
      "0   1  63.942680   2.501076\n",
      "1   2  27.502932  22.321074\n",
      "2   3  73.647121  67.669949\n",
      "3   4  89.217957   8.693883\n",
      "4   5  42.192182   2.979722\n"
     ]
    }
   ],
   "execution_count": 79
  },
  {
   "metadata": {},
   "cell_type": "markdown",
   "source": "#### 1.2 Select random population of 14 customers",
   "id": "40d94b8985ab4229"
  },
  {
   "metadata": {
    "ExecuteTime": {
     "end_time": "2025-08-28T11:46:15.988683Z",
     "start_time": "2025-08-28T11:46:15.983157Z"
    }
   },
   "cell_type": "code",
   "source": [
    "\"\"\"\n",
    "This section selects 14 random customers from the pandas dataframe.\n",
    "random_state is set to 42 to ensure reproducibility.\n",
    "\"\"\"\n",
    "POPULATION_SIZE = 14\n",
    "\n",
    "# select customers randomly from customers_list_df to match needed population size.\n",
    "customer_population = customers_list_df.sample(n=POPULATION_SIZE, random_state=42)\n",
    "print(\"First 5 customers:\")\n",
    "print(customer_population.head(5))\n",
    "\n",
    "# list of customer ids of selected customers\n",
    "customer_ids = customer_population['id'].tolist()\n",
    "print(\"----------------------------\")\n",
    "print(\"List of ids of selected customers:\", customer_ids)"
   ],
   "id": "c5b7aa14c1fd3bea",
   "outputs": [
    {
     "name": "stdout",
     "output_type": "stream",
     "text": [
      "First 5 customers:\n",
      "    id          x          y\n",
      "13  14   9.274584   9.671638\n",
      "39  40  26.488017  24.662751\n",
      "30  31  98.952335  63.999976\n",
      "45  46  10.964913  62.744604\n",
      "17  18  37.853438  55.204063\n",
      "----------------------------\n",
      "List of ids of selected customers: [14, 40, 31, 46, 18, 49, 27, 26, 33, 20, 13, 5, 38, 9]\n"
     ]
    }
   ],
   "execution_count": 80
  },
  {
   "metadata": {},
   "cell_type": "markdown",
   "source": "#### 1.3 Define generations, depot and vehicles.",
   "id": "7be18de5af09e77"
  },
  {
   "metadata": {
    "ExecuteTime": {
     "end_time": "2025-08-28T11:46:16.000991Z",
     "start_time": "2025-08-28T11:46:15.998655Z"
    }
   },
   "cell_type": "code",
   "source": [
    "# number of generations and vehicles\n",
    "GENERATIONS = 3\n",
    "VEHICLES = 3\n",
    "\n",
    "# coordinated for depot\n",
    "DEPOT_LOC = [0,0]\n",
    "\n",
    "# marker of depot it chromosome list\n",
    "DEPOT_MARKER = 0\n",
    "\n",
    "# list of internal depot markers, with the constraint that all vehicles start and finish at depot (0)\n",
    "num_internal_depot_markers = VEHICLES - 1"
   ],
   "id": "9f58e0fb3ed93eca",
   "outputs": [],
   "execution_count": 81
  },
  {
   "metadata": {},
   "cell_type": "markdown",
   "source": "#### 1.4 Create initial random chromosome.",
   "id": "210b7432206520a4"
  },
  {
   "metadata": {
    "ExecuteTime": {
     "end_time": "2025-08-28T11:46:16.014543Z",
     "start_time": "2025-08-28T11:46:16.010263Z"
    }
   },
   "cell_type": "code",
   "source": [
    "import random\n",
    "\n",
    "\"\"\"\n",
    "Constraints:\n",
    "1. start at depot (0,0)\n",
    "2. 3 vehicles. start and end at depot. e.g. (0,...,...,...,0,...,...,0,...,...,...,...,0)\n",
    "3. each customer visited only once\n",
    "\"\"\"\n",
    "\n",
    "# create random first chromosome\n",
    "def create_individual():\n",
    "    \"\"\"\n",
    "    Creates the first random individual chromosome based on the customers string and the number of vehicles.\n",
    "    \"\"\"\n",
    "\n",
    "    # create list of internal depot markers\n",
    "    internal_depot_markers_list = [depot_marker] * num_internal_depot_markers\n",
    "\n",
    "    # combine list of internal_depot_markers and customer_ids\n",
    "    elements_to_shuffle = internal_depot_markers_list + customer_ids\n",
    "\n",
    "    # shuffle all customers and internal_depot_markers randomly\n",
    "    random.shuffle(elements_to_shuffle)\n",
    "\n",
    "    # create chromosome which start at 0, and end at 0, with the customers and random point of depot-visits inbetween\n",
    "    chromosome = [depot_marker] + elements_to_shuffle + [depot_marker]\n",
    "\n",
    "    return chromosome\n",
    "\n",
    "print(\"Creating individual chromosome...\")\n",
    "create_individual()"
   ],
   "id": "8628ce2405dcf9df",
   "outputs": [
    {
     "name": "stdout",
     "output_type": "stream",
     "text": [
      "Creating individual chromosome...\n"
     ]
    },
    {
     "data": {
      "text/plain": [
       "[0, 26, 14, 0, 0, 46, 40, 9, 31, 13, 5, 20, 49, 38, 33, 27, 18, 0]"
      ]
     },
     "execution_count": 82,
     "metadata": {},
     "output_type": "execute_result"
    }
   ],
   "execution_count": 82
  },
  {
   "metadata": {},
   "cell_type": "markdown",
   "source": "#### Create dataframe with all location variables. Depot, and customers x and y.",
   "id": "99ed8629673b1811"
  },
  {
   "metadata": {
    "ExecuteTime": {
     "end_time": "2025-08-28T11:46:16.029211Z",
     "start_time": "2025-08-28T11:46:16.025121Z"
    }
   },
   "cell_type": "code",
   "source": [
    "coordinates_df = pd.concat(\n",
    "    [customer_population,\n",
    "     pd.DataFrame([[0] + DEPOT_LOC], columns=customer_population.columns)],\n",
    ")\n",
    "\n",
    "print(coordinates_df)"
   ],
   "id": "3a0a13a039426354",
   "outputs": [
    {
     "name": "stdout",
     "output_type": "stream",
     "text": [
      "    id          x          y\n",
      "13  14   9.274584   9.671638\n",
      "39  40  26.488017  24.662751\n",
      "30  31  98.952335  63.999976\n",
      "45  46  10.964913  62.744604\n",
      "17  18  37.853438  55.204063\n",
      "48  49  99.612138  52.911435\n",
      "26  27  26.697782  93.665459\n",
      "25  26  37.018097  20.950703\n",
      "32  33  84.285192  77.599991\n",
      "19  20  86.170690  57.735215\n",
      "12  13  95.721307  33.659455\n",
      "4    5  42.192182   2.979722\n",
      "37  38  65.543867  39.563190\n",
      "8    9  22.044062  58.926568\n",
      "0    0   0.000000   0.000000\n"
     ]
    }
   ],
   "execution_count": 83
  },
  {
   "metadata": {},
   "cell_type": "markdown",
   "source": "# 2. Fitness function",
   "id": "b97c40b03737c9ff"
  },
  {
   "metadata": {
    "ExecuteTime": {
     "end_time": "2025-08-28T12:46:30.996270Z",
     "start_time": "2025-08-28T12:46:30.989438Z"
    }
   },
   "cell_type": "code",
   "source": [
    "import numpy as np\n",
    "\n",
    "def calculate_euclidean_distance(id1, id2, loc_df):\n",
    "    \"\"\"\n",
    "    Calculates the Euclidean distance between two points.\n",
    "\n",
    "    Based on formula: sqrt((x1 - x2)^2 + (y1 - y2)^2)\n",
    "\n",
    "    :param id1: the id of first location\n",
    "    :param id2: the id of second location\n",
    "    :param loc_df: the dataframe containing the coordinates to all locations\n",
    "    \"\"\"\n",
    "\n",
    "    # find x and y coordinated for id1\n",
    "    x1 = loc_df.loc[loc_df['id'] == id1]['x'].iloc[0]\n",
    "    y1 = loc_df.loc[loc_df['id'] == id1]['y'].iloc[0]\n",
    "\n",
    "    # find x and y coordinates for id2\n",
    "    x2 = loc_df.loc[loc_df['id'] == id2]['x'].iloc[0]\n",
    "    y2 = loc_df.loc[loc_df['id'] == id2]['y'].iloc[0]\n",
    "\n",
    "    # Euclidean calculation on objects id1 and id2\n",
    "    return np.sqrt((x1 - x2) ** 2 + (y1 - y2) ** 2)\n",
    "\n",
    "\n",
    "def calculate_fitness(individual):\n",
    "    \"\"\"\n",
    "    Calculate the fitness of the individual chromosome.\n",
    "\n",
    "    :param individual:\n",
    "    \"\"\"\n",
    "    routes_segmented = []\n",
    "    routes_distances = []\n",
    "    start_index_of_route = 0\n",
    "\n",
    "    # separate all vehicle trips into individual routes (list)\n",
    "\n",
    "    # iterate through chromosome to find depot-markers and segment into individual vehicle routes.\n",
    "    for i in range(len(individual)):\n",
    "\n",
    "        if individual[i] == depot_marker and i != 0:                    # avoid counting starting depot point\n",
    "            route_segment = individual[start_index_of_route: i + 1]     # create a temporary route segment for current vehicle trip\n",
    "            routes_segmented.append(route_segment)                            # append list of all routes with new route segment\n",
    "\n",
    "            # start to look for new route from where the last ended at the depot\n",
    "            start_index_of_route = i\n",
    "\n",
    "    # calculate distances for each trip\n",
    "\n",
    "    # collect coordinates data (x,y)\n",
    "\n",
    "    # sum distance of all trips\n",
    "\n",
    "    # calculate fitness based on total_trip_distance\n"
   ],
   "id": "639905fdeba2e6e3",
   "outputs": [],
   "execution_count": 91
  }
 ],
 "metadata": {
  "kernelspec": {
   "display_name": "Python 3",
   "language": "python",
   "name": "python3"
  },
  "language_info": {
   "codemirror_mode": {
    "name": "ipython",
    "version": 2
   },
   "file_extension": ".py",
   "mimetype": "text/x-python",
   "name": "python",
   "nbconvert_exporter": "python",
   "pygments_lexer": "ipython2",
   "version": "2.7.6"
  }
 },
 "nbformat": 4,
 "nbformat_minor": 5
}
