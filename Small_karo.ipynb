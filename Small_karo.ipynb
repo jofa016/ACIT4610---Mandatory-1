{
 "cells": [
  {
   "metadata": {},
   "cell_type": "markdown",
   "source": "# 1. Create population",
   "id": "1d14114b4074868f"
  },
  {
   "metadata": {},
   "cell_type": "markdown",
   "source": "#### 1.1 Import customer list from CSV",
   "id": "b085523c600b265"
  },
  {
   "cell_type": "code",
   "id": "initial_id",
   "metadata": {
    "collapsed": true,
    "ExecuteTime": {
     "end_time": "2025-08-28T07:59:18.291377Z",
     "start_time": "2025-08-28T07:59:18.273842Z"
    }
   },
   "source": [
    "import pandas as pd\n",
    "import numpy as np\n",
    "\n",
    "# path to customers list\n",
    "csv_file_path = 'customers.csv'\n",
    "\n",
    "# create pandas dataframe with all customers from CSV-file\n",
    "CUSTOMERS_DF = pd.read_csv(csv_file_path)\n",
    "print(\"CSV loaded successfully. Number of customers: \", CUSTOMERS_DF.shape[0])\n",
    "print(\"First 5 customers: \", CUSTOMERS_DF.head(5))"
   ],
   "outputs": [
    {
     "name": "stdout",
     "output_type": "stream",
     "text": [
      "CSV loaded successfully. Number of customers:  50\n",
      "First 5 customers:     id          x          y\n",
      "0   1  63.942680   2.501076\n",
      "1   2  27.502932  22.321074\n",
      "2   3  73.647121  67.669949\n",
      "3   4  89.217957   8.693883\n",
      "4   5  42.192182   2.979722\n"
     ]
    }
   ],
   "execution_count": 10
  },
  {
   "metadata": {},
   "cell_type": "markdown",
   "source": "#### 1.2 Select random population of 14 customers",
   "id": "40d94b8985ab4229"
  },
  {
   "metadata": {
    "ExecuteTime": {
     "end_time": "2025-08-28T07:57:16.362626Z",
     "start_time": "2025-08-28T07:57:16.349236Z"
    }
   },
   "cell_type": "code",
   "source": [
    "\"\"\"\n",
    "This section selects 14 random customers from the pandas dataframe.\n",
    "random_state is set to 42 to ensure reproducibility.\n",
    "\"\"\"\n",
    "POPULATION_SIZE = 14\n",
    "\n",
    "customer_population = customers_list_df.sample(n=POPULATION_SIZE, random_state=42)\n",
    "\n",
    "print(customer_population.shape[0], customer_population)\n"
   ],
   "id": "c5b7aa14c1fd3bea",
   "outputs": [
    {
     "name": "stdout",
     "output_type": "stream",
     "text": [
      "14     id          x          y\n",
      "13  14   9.274584   9.671638\n",
      "39  40  26.488017  24.662751\n",
      "30  31  98.952335  63.999976\n",
      "45  46  10.964913  62.744604\n",
      "17  18  37.853438  55.204063\n",
      "48  49  99.612138  52.911435\n",
      "26  27  26.697782  93.665459\n",
      "25  26  37.018097  20.950703\n",
      "32  33  84.285192  77.599991\n",
      "19  20  86.170690  57.735215\n",
      "12  13  95.721307  33.659455\n",
      "4    5  42.192182   2.979722\n",
      "37  38  65.543867  39.563190\n",
      "8    9  22.044062  58.926568\n"
     ]
    }
   ],
   "execution_count": 9
  },
  {
   "metadata": {},
   "cell_type": "markdown",
   "source": "#### 1.3 Define generations, depot and vehicles.",
   "id": "7be18de5af09e77"
  },
  {
   "metadata": {
    "ExecuteTime": {
     "end_time": "2025-08-28T08:04:22.223120Z",
     "start_time": "2025-08-28T08:04:22.216849Z"
    }
   },
   "cell_type": "code",
   "source": [
    "# number of generations and vehicles\n",
    "GENERATIONS = 3\n",
    "VEHICLES = 3\n",
    "\n",
    "#coordinated for depot\n",
    "DEPOT = (0,0)"
   ],
   "id": "9f58e0fb3ed93eca",
   "outputs": [],
   "execution_count": 11
  },
  {
   "metadata": {},
   "cell_type": "markdown",
   "source": "#### 1.4 Create initial random chromosome.",
   "id": "210b7432206520a4"
  },
  {
   "metadata": {},
   "cell_type": "code",
   "outputs": [],
   "execution_count": null,
   "source": "",
   "id": "8628ce2405dcf9df"
  },
  {
   "metadata": {},
   "cell_type": "markdown",
   "source": "# 2. Fitness function",
   "id": "b97c40b03737c9ff"
  }
 ],
 "metadata": {
  "kernelspec": {
   "display_name": "Python 3",
   "language": "python",
   "name": "python3"
  },
  "language_info": {
   "codemirror_mode": {
    "name": "ipython",
    "version": 2
   },
   "file_extension": ".py",
   "mimetype": "text/x-python",
   "name": "python",
   "nbconvert_exporter": "python",
   "pygments_lexer": "ipython2",
   "version": "2.7.6"
  }
 },
 "nbformat": 4,
 "nbformat_minor": 5
}
