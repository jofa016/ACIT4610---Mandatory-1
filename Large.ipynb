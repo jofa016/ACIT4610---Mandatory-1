{
 "cells": [
  {
   "cell_type": "markdown",
   "id": "4560c983",
   "metadata": {},
   "source": [
    "## Data Ingestion (CSV -> Scenario)"
   ]
  },
  {
   "cell_type": "code",
   "execution_count": 1,
   "id": "b0efeea9",
   "metadata": {},
   "outputs": [],
   "source": [
    "import math, random\n",
    "import numpy as np\n",
    "import pandas as pd\n",
    "import matplotlib.pyplot as plt"
   ]
  },
  {
   "cell_type": "code",
   "execution_count": 6,
   "id": "f516d687",
   "metadata": {},
   "outputs": [],
   "source": [
    "df = pd.read_csv(\"customers.csv\")\n",
    "# make a depot around the center\n",
    "depot_x = df[\"x\"].mean()\n",
    "depot_y = df[\"y\"].mean()\n",
    "depot = (depot_x, depot_y)\n",
    "\n",
    "# make customers to a coordinate list\n",
    "\n",
    "coords_df = df[[\"x\",\"y\"]]\n",
    "customers = list(zip(coords_df[\"x\"], coords_df[\"y\"]))\n",
    "\n",
    "#distance matrix\n",
    "def euclidean(a, b):\n",
    "    return math.hypot(a[0]- b[0], a[1] - b[1])\n",
    "\n",
    "def distance_matrix(depot, customers):\n",
    "    pts = [tuple(depot)] + [tuple(c) for c in customers]\n",
    "    n = len(pts)\n",
    "    dmat = np.zeros((n,n), dtype = float)\n",
    "    for i in range(n):\n",
    "        for j in range(n):\n",
    "            if i == j:\n",
    "                dmat(i, j) == 0.0\n",
    "            else:\n",
    "                dmat[i, j] = euclidean(pts[i], pts[j])\n",
    "    \n",
    "    return dmat\n",
    "\n",
    "#choose number of vihicles\n",
    "\n",
    "n_vehicles = 20\n",
    "#visualize\n",
    "\n",
    "\n"
   ]
  },
  {
   "cell_type": "markdown",
   "id": "7c899e3e",
   "metadata": {},
   "source": [
    "## Representation"
   ]
  },
  {
   "cell_type": "markdown",
   "id": "1253cbed",
   "metadata": {},
   "source": [
    "## GA Operators"
   ]
  },
  {
   "cell_type": "markdown",
   "id": "13d8742f",
   "metadata": {},
   "source": [
    "## GA Engine"
   ]
  },
  {
   "cell_type": "markdown",
   "id": "47081125",
   "metadata": {},
   "source": [
    "## Experiments"
   ]
  },
  {
   "cell_type": "markdown",
   "id": "7cca60a5",
   "metadata": {},
   "source": [
    "## Visualization"
   ]
  },
  {
   "cell_type": "markdown",
   "id": "13fe5e71",
   "metadata": {},
   "source": []
  }
 ],
 "metadata": {
  "kernelspec": {
   "display_name": "Python 3",
   "language": "python",
   "name": "python3"
  },
  "language_info": {
   "codemirror_mode": {
    "name": "ipython",
    "version": 3
   },
   "file_extension": ".py",
   "mimetype": "text/x-python",
   "name": "python",
   "nbconvert_exporter": "python",
   "pygments_lexer": "ipython3",
   "version": "3.11.9"
  }
 },
 "nbformat": 4,
 "nbformat_minor": 5
}
